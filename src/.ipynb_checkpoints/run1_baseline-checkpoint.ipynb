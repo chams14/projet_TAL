{
 "cells": [
  {
   "cell_type": "markdown",
   "metadata": {},
   "source": [
    "# Run 1 : Baseline"
   ]
  },
  {
   "cell_type": "code",
   "execution_count": 2,
   "metadata": {},
   "outputs": [],
   "source": [
    "import pandas as pd\n",
    "import numpy as np\n",
    "from sklearn.metrics import accuracy_score, classification_report, confusion_matrix"
   ]
  },
  {
   "cell_type": "markdown",
   "metadata": {},
   "source": [
    "### Chargement des données d'apprentissage et de test"
   ]
  },
  {
   "cell_type": "code",
   "execution_count": 3,
   "metadata": {},
   "outputs": [],
   "source": [
    "df_train = pd.read_csv(\"../data/train.csv\", sep=',', encoding='utf-8')\n",
    "df_validation = pd.read_csv(\"../data/validation.csv\", sep=',', encoding='utf-8')\n",
    "df_test = pd.read_csv(\"../data/test.csv\", sep=',', encoding='utf-8')"
   ]
  },
  {
   "cell_type": "markdown",
   "metadata": {},
   "source": [
    "### Prédiction de manière aléatoire"
   ]
  },
  {
   "cell_type": "code",
   "execution_count": 4,
   "metadata": {},
   "outputs": [],
   "source": [
    "x = df_train[['titre', 'ingredients','recette']]\n",
    "y = df_train[\"type\"]\n",
    "\n",
    "x_test = df_test[['titre', 'ingredients','recette']]\n",
    "y_test = df_test[\"type\"]\n",
    "\n",
    "y_pred = np.random.choice(y, size=len(x_test))"
   ]
  },
  {
   "cell_type": "markdown",
   "metadata": {},
   "source": [
    "#### Résultats"
   ]
  },
  {
   "cell_type": "code",
   "execution_count": 5,
   "metadata": {},
   "outputs": [
    {
     "name": "stdout",
     "output_type": "stream",
     "text": [
      "Accuracy: 0.3760806916426513 \n",
      "\n",
      "                precision    recall  f1-score   support\n",
      "\n",
      "       Dessert       0.30      0.31      0.31       407\n",
      "        Entrée       0.23      0.22      0.23       337\n",
      "Plat principal       0.49      0.50      0.50       644\n",
      "\n",
      "      accuracy                           0.38      1388\n",
      "     macro avg       0.34      0.34      0.34      1388\n",
      "  weighted avg       0.37      0.38      0.37      1388\n",
      " \n",
      "\n",
      "[[126 104 177]\n",
      " [105  74 158]\n",
      " [183 139 322]]\n"
     ]
    }
   ],
   "source": [
    "score = accuracy_score(y_pred,y_test)\n",
    "print(\"Accuracy:\", score, \"\\n\")\n",
    "print(classification_report(y_test, y_pred), \"\\n\")\n",
    "print(confusion_matrix(y_test, y_pred))"
   ]
  }
 ],
 "metadata": {
  "kernelspec": {
   "display_name": "Python 3 (ipykernel)",
   "language": "python",
   "name": "python3"
  },
  "language_info": {
   "codemirror_mode": {
    "name": "ipython",
    "version": 3
   },
   "file_extension": ".py",
   "mimetype": "text/x-python",
   "name": "python",
   "nbconvert_exporter": "python",
   "pygments_lexer": "ipython3",
   "version": "3.10.9"
  }
 },
 "nbformat": 4,
 "nbformat_minor": 4
}
