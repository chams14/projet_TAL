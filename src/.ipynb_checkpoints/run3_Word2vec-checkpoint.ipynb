{
 "cells": [
  {
   "cell_type": "code",
   "execution_count": 8,
   "metadata": {},
   "outputs": [],
   "source": [
    "import pandas as pd\n",
    "import numpy as np\n",
    "from gensim.models import Word2Vec\n",
    "from sklearn.model_selection import train_test_split\n",
    "from sklearn.metrics import classification_report, confusion_matrix\n",
    "from nltk.corpus import stopwords\n",
    "from nltk.tokenize import word_tokenize\n",
    "from sklearn.svm import SVC"
   ]
  },
  {
   "cell_type": "code",
   "execution_count": 9,
   "metadata": {},
   "outputs": [
    {
     "name": "stdout",
     "output_type": "stream",
     "text": [
      "                precision    recall  f1-score   support\n",
      "\n",
      "       Dessert       0.98      0.99      0.99       407\n",
      "        Entrée       0.73      0.63      0.67       337\n",
      "Plat principal       0.82      0.88      0.85       644\n",
      "\n",
      "      accuracy                           0.85      1388\n",
      "     macro avg       0.85      0.83      0.84      1388\n",
      "  weighted avg       0.85      0.85      0.85      1388\n",
      "\n"
     ]
    }
   ],
   "source": [
    "df_train = pd.read_csv(\"../data/train.csv\", sep=',', encoding='utf-8')\n",
    "df_test = pd.read_csv(\"../data/test.csv\", sep=',', encoding='utf-8')\n",
    "\n",
    "df_train['texte'] = df_train['titre'] + \" \" + df_train['ingredients'] + \" \" + df_train['recette']\n",
    "df_test['texte'] = df_test['titre'] + \" \" + df_test['ingredients'] + \" \" + df_test['recette']\n",
    "\n",
    "stop_words = set(stopwords.words('french'))\n",
    "\n",
    "def tokenize_text(text):\n",
    "    tokens = word_tokenize(text, language=\"french\")\n",
    "    mal_segmentes = [t for t in tokens if \"'\" in t]\n",
    "    # print(mal_segmentes)\n",
    "    tokens = [word.lower() for word in tokens if word.isalpha() and word not in stop_words]\n",
    "    return tokens\n",
    "\n",
    "df_train['tokenize_text'] = df_train['texte'].apply(tokenize_text)\n",
    "df_test['tokenize_text'] = df_test['texte'].apply(tokenize_text)\n",
    "\n",
    "\n",
    "model = Word2Vec(sentences=df_train['tokenize_text'], vector_size=100, window=5, min_count=1, workers=4)\n",
    "\n",
    "def get_vector(words, model):\n",
    "    words = [word for word in words if word in model.wv]\n",
    "    return np.mean(model.wv[words], axis=0)\n",
    "\n",
    "df_train['vector'] = df_train['tokenize_text'].apply(lambda words: get_vector(words, model))\n",
    "df_test['vector'] = df_test['tokenize_text'].apply(lambda words: get_vector(words, model))\n",
    "\n",
    "\n",
    "X_train = np.vstack(df_train['vector'].values)\n",
    "y_train = df_train['type']\n",
    "\n",
    "X_test = np.vstack(df_test['vector'].values)\n",
    "y_test = df_test[\"type\"]\n",
    "\n",
    "svc = SVC(kernel=\"linear\", probability=True)\n",
    "svc.fit(X_train, y_train)\n",
    "y_pred = svc.predict(X_test)\n",
    "\n",
    "print(classification_report(y_test, y_pred))"
   ]
  },
  {
   "cell_type": "code",
   "execution_count": 4,
   "metadata": {},
   "outputs": [
    {
     "data": {
      "text/plain": [
       "<Axes: >"
      ]
     },
     "execution_count": 4,
     "metadata": {},
     "output_type": "execute_result"
    },
    {
     "data": {
      "image/png": "[encoded data removed]",
      "text/plain": [
       "<Figure size 640x480 with 2 Axes>"
      ]
     },
     "metadata": {},
     "output_type": "display_data"
    }
   ],
   "source": [
    "import seaborn as sns \n",
    "matrix = confusion_matrix(y_test, y_pred)\n",
    "sns.heatmap(matrix, annot=True, fmt=\"d\", cmap=\"Blues\", linewidths=0.5, linecolor=\"black\")"
   ]
  },
  {
   "cell_type": "code",
   "execution_count": 6,
   "metadata": {},
   "outputs": [
    {
     "name": "stdout",
     "output_type": "stream",
     "text": [
      "                precision    recall  f1-score   support\n",
      "\n",
      "       Dessert       0.98      0.99      0.98       407\n",
      "        Entrée       0.76      0.62      0.69       337\n",
      "Plat principal       0.82      0.89      0.86       644\n",
      "\n",
      "      accuracy                           0.86      1388\n",
      "     macro avg       0.85      0.84      0.84      1388\n",
      "  weighted avg       0.85      0.86      0.85      1388\n",
      "\n"
     ]
    }
   ],
   "source": [
    "from gensim.utils import simple_preprocess\n",
    "\n",
    "df_train = pd.read_csv(\"../data/train.csv\", sep=',', encoding='utf-8')\n",
    "df_test = pd.read_csv(\"../data/test.csv\", sep=',', encoding='utf-8')\n",
    "\n",
    "df_train['texte'] = df_train['titre'] + \" \" + df_train['ingredients'] + \" \" + df_train['recette']\n",
    "df_test['texte'] = df_test['titre'] + \" \" + df_test['ingredients'] + \" \" + df_test['recette']\n",
    "\n",
    "df_train['tokenize_text'] = [simple_preprocess(text) for text in df_train['texte']]\n",
    "df_test['tokenize_text'] = [simple_preprocess(text) for text in df_test['texte']]\n",
    "\n",
    "model = Word2Vec(sentences=df_train['tokenize_text'], vector_size=100, window=5, min_count=1, workers=4)\n",
    "\n",
    "df_train['vector'] = df_train['tokenize_text'].apply(lambda words: get_vector(words, model))\n",
    "df_test['vector'] = df_test['tokenize_text'].apply(lambda words: get_vector(words, model))\n",
    "\n",
    "X_train = np.vstack(df_train['vector'].values)\n",
    "y_train = df_train['type']\n",
    "\n",
    "X_test = np.vstack(df_test['vector'].values)\n",
    "y_test = df_test[\"type\"]\n",
    "\n",
    "svc = SVC(kernel=\"linear\")\n",
    "svc.fit(X_train, y_train)\n",
    "y_pred = svc.predict(X_test)\n",
    "\n",
    "print(classification_report(y_test, y_pred))"
   ]
  },
  {
   "cell_type": "code",
   "execution_count": 7,
   "metadata": {},
   "outputs": [
    {
     "data": {
      "text/plain": [
       "<Axes: >"
      ]
     },
     "execution_count": 7,
     "metadata": {},
     "output_type": "execute_result"
    },
    {
     "data": {
      "image/png": "[encoded data removed]",
      "text/plain": [
       "<Figure size 640x480 with 2 Axes>"
      ]
     },
     "metadata": {},
     "output_type": "display_data"
    }
   ],
   "source": [
    "import seaborn as sns \n",
    "matrix = confusion_matrix(y_test, y_pred)\n",
    "sns.heatmap(matrix, annot=True, fmt=\"d\", cmap=\"Blues\", linewidths=0.5, linecolor=\"black\")"
   ]
  }
 ],
 "metadata": {
  "kernelspec": {
   "display_name": "Python 3 (ipykernel)",
   "language": "python",
   "name": "python3"
  },
  "language_info": {
   "codemirror_mode": {
    "name": "ipython",
    "version": 3
   },
   "file_extension": ".py",
   "mimetype": "text/x-python",
   "name": "python",
   "nbconvert_exporter": "python",
   "pygments_lexer": "ipython3",
   "version": "3.10.9"
  }
 },
 "nbformat": 4,
 "nbformat_minor": 4
}
