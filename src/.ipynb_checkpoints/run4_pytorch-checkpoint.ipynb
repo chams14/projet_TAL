{
 "cells": [
  {
   "cell_type": "markdown",
   "metadata": {},
   "source": [
    "# Run 4 : MLP"
   ]
  },
  {
   "cell_type": "code",
   "execution_count": 1,
   "metadata": {},
   "outputs": [],
   "source": [
    "import pandas as pd\n",
    "import numpy as np\n",
    "import matplotlib.pyplot as plt\n",
    "from sklearn.preprocessing import LabelEncoder\n",
    "from sklearn.metrics import accuracy_score, classification_report, confusion_matrix\n",
    "\n",
    "# Word2Vec\n",
    "from gensim.models import Word2Vec\n",
    "from nltk.corpus import stopwords\n",
    "from nltk.tokenize import word_tokenize\n",
    "\n",
    "# PyTorch\n",
    "import torch\n",
    "import torch.nn as nn\n",
    "from torch.utils.data import DataLoader, TensorDataset"
   ]
  },
  {
   "cell_type": "markdown",
   "metadata": {},
   "source": [
    "### Chargement des données d'apprentissage et de test"
   ]
  },
  {
   "cell_type": "code",
   "execution_count": 2,
   "metadata": {},
   "outputs": [],
   "source": [
    "df_train = pd.read_csv(\"../data/train.csv\", sep=',', encoding='utf-8')\n",
    "df_validation = pd.read_csv(\"../data/validation.csv\", sep=',', encoding='utf-8')\n",
    "df_test = pd.read_csv(\"../data/test.csv\", sep=',', encoding='utf-8')"
   ]
  },
  {
   "cell_type": "markdown",
   "metadata": {},
   "source": [
    "### Vectorisation des données avec  TF-IDF et encodage des labels"
   ]
  },
  {
   "cell_type": "code",
   "execution_count": 3,
   "metadata": {},
   "outputs": [],
   "source": [
    "stop_words = set(stopwords.words('french'))\n",
    "\n",
    "df_train['vecteur'] = df_train['titre'] + \" \" + df_train['recette']\n",
    "df_validation['vecteur'] = df_validation['titre'] + \" \" + df_validation['recette']\n",
    "df_test['vecteur'] = df_test['titre'] + \" \" + df_test['recette']\n",
    "\n",
    "# tokenisation \n",
    "def tokenize_text(text):\n",
    "    tokens = word_tokenize(text, language=\"french\")\n",
    "    mal_segmentes = [t for t in tokens if \"'\" in t]\n",
    "    tokens = [word.lower() for word in tokens if word.isalpha() and word not in stop_words]\n",
    "    return tokens\n",
    "\n",
    "df_train['tokenize_text'] = df_train['vecteur'].apply(tokenize_text)\n",
    "df_validation['tokenize_text'] = df_validation['vecteur'].apply(tokenize_text)\n",
    "df_test['tokenize_text'] = df_test['vecteur'].apply(tokenize_text)\n",
    "\n",
    "# modèle Word2Vec \n",
    "model = Word2Vec(sentences=df_train['tokenize_text'], vector_size=100, window=5, min_count=1, workers=4)\n",
    "\n",
    "# vecteur pour une phrase\n",
    "def get_vector(words, model):\n",
    "    words = [word for word in words if word in model.wv]\n",
    "    return np.mean(model.wv[words], axis=0)\n",
    "\n",
    "# transformation en vecteur \n",
    "x_train = np.array(df_train['tokenize_text'].apply(lambda words: get_vector(words, model)).tolist())\n",
    "x_validation = np.array(df_validation['tokenize_text'].apply(lambda words: get_vector(words, model)).tolist())\n",
    "x_test = np.array(df_test['tokenize_text'].apply(lambda words: get_vector(words, model)).tolist())\n",
    "\n",
    "label_encoder = LabelEncoder()\n",
    "y_train = label_encoder.fit_transform(df_train[\"type\"])\n",
    "y_validation = label_encoder.transform(df_validation[\"type\"])\n",
    "y_test = label_encoder.transform(df_test[\"type\"])"
   ]
  },
  {
   "cell_type": "markdown",
   "metadata": {},
   "source": [
    "### Conversion des données en tensors PyTorch"
   ]
  },
  {
   "cell_type": "code",
   "execution_count": 4,
   "metadata": {},
   "outputs": [],
   "source": [
    "x_train = torch.tensor(x_train, dtype=torch.float32)\n",
    "y_train = torch.tensor(y_train, dtype=torch.long)\n",
    "x_validation = torch.tensor(x_validation, dtype=torch.float32)\n",
    "y_validation = torch.tensor(y_validation, dtype=torch.long)\n",
    "x_test = torch.tensor(x_test, dtype=torch.float32)\n",
    "y_test = torch.tensor(y_test, dtype=torch.long)"
   ]
  },
  {
   "cell_type": "code",
   "execution_count": 5,
   "metadata": {},
   "outputs": [],
   "source": [
    "train_dataset = TensorDataset(x_train, y_train)\n",
    "train_loader = DataLoader(train_dataset, batch_size=150, shuffle=True)\n",
    "\n",
    "validation_dataset = TensorDataset(x_validation, y_validation)\n",
    "validation_loader = DataLoader(validation_dataset, batch_size=150, shuffle=False)"
   ]
  },
  {
   "cell_type": "markdown",
   "metadata": {},
   "source": [
    "### Affichage des tailles des tensors pour adapter la taille du modèles"
   ]
  },
  {
   "cell_type": "code",
   "execution_count": 13,
   "metadata": {},
   "outputs": [
    {
     "name": "stdout",
     "output_type": "stream",
     "text": [
      "torch.Size([11225, 100]) torch.Size([11225])\n",
      "torch.Size([1248, 100]) torch.Size([1248])\n",
      "torch.Size([1388, 100]) torch.Size([1388])\n"
     ]
    }
   ],
   "source": [
    "print(x_train.shape, y_train.shape)\n",
    "print(x_validation.shape, y_validation.shape)\n",
    "print(x_test.shape, y_test.shape)"
   ]
  },
  {
   "cell_type": "markdown",
   "metadata": {},
   "source": [
    "### Modèle"
   ]
  },
  {
   "cell_type": "code",
   "execution_count": 27,
   "metadata": {},
   "outputs": [],
   "source": [
    "device = torch.device('cpu')\n",
    "\n",
    "class NeuralNetwork(nn.Module):\n",
    "    def __init__(self):\n",
    "        super().__init__()\n",
    "        self.c1 = nn.Linear(100, 256) # 256 neurones \n",
    "        self.c2 = nn.Linear(256, 256) \n",
    "        self.c3 = nn.Linear(256, 3) \n",
    "        self.activation = nn.ReLU()\n",
    "\n",
    "    def forward(self, x):\n",
    "        x = self.activation(self.c1(x))\n",
    "        x = self.activation(self.c2(x))\n",
    "        x = self.c3(x)\n",
    "        return x\n",
    "\n",
    "model = NeuralNetwork().to(device)\n",
    "criterion = nn.CrossEntropyLoss()\n",
    "optimizer = torch.optim.Adam(model.parameters(), lr=0.01)\n",
    "\n",
    "def train(dataloader, model, criterion, optimizer):\n",
    "    model.train()\n",
    "    train_loss = 0.0\n",
    "    for batch, (x, y) in enumerate(dataloader):\n",
    "        optimizer.zero_grad()\n",
    "        pred = model(x.to(device))\n",
    "        loss = criterion(pred, y.to(device))\n",
    "\n",
    "        loss.backward()\n",
    "        optimizer.step()\n",
    "\n",
    "        if batch % 100 == 0:\n",
    "            train_loss += loss.item()\n",
    "    return train_loss/100\n",
    "\n",
    "def test(dataloader, model, criterion):\n",
    "    model.eval()\n",
    "    test_loss, correct = 0, 0\n",
    "    with torch.no_grad():\n",
    "        for x, y in dataloader:\n",
    "            pred = model(x.to(device))\n",
    "            test_loss += criterion(pred, y.to(device)).item()\n",
    "            _, predicted = torch.max(pred, 1)\n",
    "            correct += (predicted == y.to(device)).type(torch.float).sum().item()\n",
    "    test_loss /= len(dataloader)\n",
    "    correct /= len(dataloader.dataset)\n",
    "    print(f\"Accuracy: {(100 * correct):>0.1f}%, Avg loss: {test_loss:>8f} \\n\")\n",
    "    return test_loss"
   ]
  },
  {
   "cell_type": "markdown",
   "metadata": {},
   "source": [
    "### Entraînement"
   ]
  },
  {
   "cell_type": "code",
   "execution_count": 28,
   "metadata": {},
   "outputs": [
    {
     "name": "stdout",
     "output_type": "stream",
     "text": [
      "Epoch 1\n",
      "Accuracy: 81.8%, Avg loss: 0.401672 \n",
      "\n",
      "Epoch 2\n",
      "Accuracy: 83.6%, Avg loss: 0.373909 \n",
      "\n",
      "Epoch 3\n",
      "Accuracy: 84.5%, Avg loss: 0.365241 \n",
      "\n",
      "Epoch 4\n",
      "Accuracy: 83.3%, Avg loss: 0.358375 \n",
      "\n",
      "Epoch 5\n",
      "Accuracy: 84.5%, Avg loss: 0.357062 \n",
      "\n",
      "Epoch 6\n",
      "Accuracy: 84.8%, Avg loss: 0.342111 \n",
      "\n",
      "Epoch 7\n",
      "Accuracy: 84.9%, Avg loss: 0.334650 \n",
      "\n",
      "Epoch 8\n",
      "Accuracy: 84.5%, Avg loss: 0.341163 \n",
      "\n",
      "Epoch 9\n",
      "Accuracy: 84.2%, Avg loss: 0.339902 \n",
      "\n",
      "Epoch 10\n",
      "Accuracy: 85.8%, Avg loss: 0.329786 \n",
      "\n"
     ]
    }
   ],
   "source": [
    "loss_train = []\n",
    "loss_validation = []\n",
    "for epochs in range(10):\n",
    "    current_loss = 0.0\n",
    "    print(f\"Epoch {epochs + 1}\")\n",
    "    loss_train.append(train(train_loader, model, criterion, optimizer))\n",
    "    loss_validation.append(test(validation_loader, model, criterion))"
   ]
  },
  {
   "cell_type": "markdown",
   "metadata": {},
   "source": [
    "#### Graphique des pertes"
   ]
  },
  {
   "cell_type": "code",
   "execution_count": 29,
   "metadata": {},
   "outputs": [
    {
     "data": {
      "image/png": "[encoded data removed]",
      "text/plain": [
       "<Figure size 640x480 with 1 Axes>"
      ]
     },
     "metadata": {},
     "output_type": "display_data"
    }
   ],
   "source": [
    "x = pd.Series(range(10))\n",
    "plt.figure()\n",
    "plt.plot(x, loss_train, color='orange')\n",
    "plt.plot(x, loss_validation, color='blue')\n",
    "plt.legend(['train', 'validation'])\n",
    "plt.yscale('log')\n",
    "plt.title(\"MLP PyTorch Loss\")\n",
    "plt.show()"
   ]
  },
  {
   "cell_type": "markdown",
   "metadata": {},
   "source": [
    "### Prédiction"
   ]
  },
  {
   "cell_type": "code",
   "execution_count": 30,
   "metadata": {},
   "outputs": [],
   "source": [
    "with torch.no_grad():\n",
    "    y_pred = model(x_test.to(device))\n",
    "\n",
    "y_pred_classes = torch.argmax(y_pred, dim=1)"
   ]
  },
  {
   "cell_type": "markdown",
   "metadata": {},
   "source": [
    "### Résultats"
   ]
  },
  {
   "cell_type": "code",
   "execution_count": 31,
   "metadata": {},
   "outputs": [
    {
     "name": "stdout",
     "output_type": "stream",
     "text": [
      "Accuracy: 0.8393371757925072 \n",
      "\n",
      "              precision    recall  f1-score   support\n",
      "\n",
      "           0       0.95      0.99      0.97       407\n",
      "           1       0.69      0.69      0.69       337\n",
      "           2       0.84      0.83      0.84       644\n",
      "\n",
      "    accuracy                           0.84      1388\n",
      "   macro avg       0.83      0.83      0.83      1388\n",
      "weighted avg       0.84      0.84      0.84      1388\n",
      " \n",
      "\n",
      "[[401   4   2]\n",
      " [ 10 231  96]\n",
      " [ 11 100 533]]\n"
     ]
    }
   ],
   "source": [
    "score = accuracy_score(y_test, y_pred_classes)\n",
    "print(\"Accuracy:\", score, \"\\n\")\n",
    "print(classification_report(y_test, y_pred_classes), \"\\n\")\n",
    "print(confusion_matrix(y_test, y_pred_classes))"
   ]
  }
 ],
 "metadata": {
  "kernelspec": {
   "display_name": "Python 3 (ipykernel)",
   "language": "python",
   "name": "python3"
  },
  "language_info": {
   "codemirror_mode": {
    "name": "ipython",
    "version": 3
   },
   "file_extension": ".py",
   "mimetype": "text/x-python",
   "name": "python",
   "nbconvert_exporter": "python",
   "pygments_lexer": "ipython3",
   "version": "3.10.9"
  }
 },
 "nbformat": 4,
 "nbformat_minor": 4
}
