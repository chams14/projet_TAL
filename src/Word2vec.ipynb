{
 "cells": [
  {
   "cell_type": "code",
   "execution_count": 5,
   "metadata": {},
   "outputs": [
    {
     "name": "stdout",
     "output_type": "stream",
     "text": [
      "                precision    recall  f1-score   support\n",
      "\n",
      "       Dessert       0.96      1.00      0.98       610\n",
      "        Entrée       0.67      0.48      0.56       465\n",
      "Plat principal       0.78      0.87      0.82       921\n",
      "\n",
      "      accuracy                           0.82      1996\n",
      "     macro avg       0.80      0.78      0.79      1996\n",
      "  weighted avg       0.81      0.82      0.81      1996\n",
      "\n",
      "[[607   2   1]\n",
      " [ 12 222 231]\n",
      " [ 11 105 805]]\n"
     ]
    }
   ],
   "source": [
    "import pandas as pd\n",
    "import numpy as np\n",
    "from gensim.models import Word2Vec\n",
    "from sklearn.model_selection import train_test_split\n",
    "from sklearn.ensemble import RandomForestClassifier\n",
    "from sklearn.metrics import classification_report, confusion_matrix\n",
    "from sklearn.preprocessing import LabelEncoder\n",
    "from nltk.corpus import stopwords\n",
    "from nltk.tokenize import word_tokenize\n",
    "from sklearn.neighbors import KNeighborsClassifier\n",
    "\n",
    "df = pd.read_csv(\"../data/train.csv\")\n",
    "df['text'] = df['titre'] + ' ' + df['ingredients'] + ' ' + df['recette']\n",
    "\n",
    "stop_words = set(stopwords.words('french'))\n",
    "\n",
    "def tokenize_text(text):\n",
    "    tokens = word_tokenize(text, language=\"french\")\n",
    "    mal_segmentes = [t for t in tokens if \"'\" in t]\n",
    "    # print(mal_segmentes)\n",
    "    tokens = [word.lower() for word in tokens if word.isalpha() and word not in stop_words]\n",
    "    return tokens\n",
    "\n",
    "df['tokenize_text'] = df['text'].apply(tokenize_text)\n",
    "\n",
    "model = Word2Vec(sentences=df['tokenize_text'], vector_size=100, window=5, min_count=1, workers=4)\n",
    "\n",
    "def get_vector(words, model):\n",
    "    words = [word for word in words if word in model.wv]\n",
    "    if len(words) == 0:\n",
    "        return np.zeros(model.vector_size)\n",
    "    return np.mean(model.wv[words], axis=0)\n",
    "\n",
    "df['vector'] = df['tokenize_text'].apply(lambda words: get_vector(words, model))\n",
    "\n",
    "X = np.vstack(df['vector'].values)\n",
    "y = df['type']\n",
    "\n",
    "le = LabelEncoder()\n",
    "y = le.fit_transform(y)\n",
    "\n",
    "X_train, X_test, y_train, y_test = train_test_split(X, y, test_size=0.2, random_state=42)\n",
    "\n",
    "#clf = RandomForestClassifier(n_estimators=100, random_state=42)\n",
    "#clf.fit(X_train, y_train)\n",
    "#y_pred = clf.predict(X_test)\n",
    "\n",
    "knn = KNeighborsClassifier(n_neighbors=5)\n",
    "knn.fit(X_train, y_train)\n",
    "y_pred = knn.predict(X_test)\n",
    "\n",
    "print(classification_report(y_test, y_pred, target_names=le.classes_))\n",
    "print(confusion_matrix(y_test, y_pred))"
   ]
  },
  {
   "cell_type": "code",
   "execution_count": 6,
   "metadata": {},
   "outputs": [
    {
     "name": "stdout",
     "output_type": "stream",
     "text": [
      "                precision    recall  f1-score   support\n",
      "\n",
      "       Dessert       0.96      0.99      0.98       610\n",
      "        Entrée       0.66      0.43      0.52       465\n",
      "Plat principal       0.76      0.88      0.82       921\n",
      "\n",
      "      accuracy                           0.81      1996\n",
      "     macro avg       0.79      0.77      0.77      1996\n",
      "  weighted avg       0.80      0.81      0.80      1996\n",
      "\n",
      "[[604   5   1]\n",
      " [ 12 201 252]\n",
      " [ 10 100 811]]\n"
     ]
    }
   ],
   "source": [
    "from gensim.utils import simple_preprocess\n",
    "\n",
    "df = pd.read_csv(\"../data/train.csv\")\n",
    "\n",
    "df['text'] = df['titre'] + ' ' + df['ingredients'] + ' ' + df['recette']\n",
    "\n",
    "df['tokenize_text'] = [simple_preprocess(text) for text in df['text']]\n",
    "\n",
    "model = Word2Vec(sentences=df['tokenize_text'], vector_size=100, window=5, min_count=1, workers=4)\n",
    "\n",
    "def get_vector(words, model):\n",
    "    words = [word for word in words if word in model.wv]\n",
    "    if len(words) == 0:\n",
    "        return np.zeros(model.vector_size)\n",
    "    return np.mean(model.wv[words], axis=0)\n",
    "\n",
    "df['vector'] = df['tokenize_text'].apply(lambda words: get_vector(words, model))\n",
    "\n",
    "X = np.vstack(df['vector'].values)\n",
    "y = df['type']\n",
    "\n",
    "le = LabelEncoder()\n",
    "y = le.fit_transform(y)\n",
    "\n",
    "X_train, X_test, y_train, y_test = train_test_split(X, y, test_size=0.2, random_state=42)\n",
    "\n",
    "knn = KNeighborsClassifier(n_neighbors=5)\n",
    "knn.fit(X_train, y_train)\n",
    "y_pred = knn.predict(X_test)\n",
    "\n",
    "y_pred = knn.predict(X_test)\n",
    "print(classification_report(y_test, y_pred, target_names=le.classes_))\n",
    "print(confusion_matrix(y_test, y_pred))\n"
   ]
  }
 ],
 "metadata": {
  "kernelspec": {
   "display_name": "Python 3",
   "language": "python",
   "name": "python3"
  },
  "language_info": {
   "codemirror_mode": {
    "name": "ipython",
    "version": 3
   },
   "file_extension": ".py",
   "mimetype": "text/x-python",
   "name": "python",
   "nbconvert_exporter": "python",
   "pygments_lexer": "ipython3",
   "version": "3.10.11"
  }
 },
 "nbformat": 4,
 "nbformat_minor": 2
}
