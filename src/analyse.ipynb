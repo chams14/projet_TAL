{
 "cells": [
  {
   "cell_type": "markdown",
   "metadata": {},
   "source": [
    "## Statistique du corpus"
   ]
  },
  {
   "cell_type": "code",
   "execution_count": null,
   "metadata": {},
   "outputs": [],
   "source": [
    "import pandas as pd\n",
    "\n",
    "df = pd.read_csv(\"./data/train.csv\")\n",
    "counts = df[\"type\"].value_counts()\n",
    "print(\"----train\")\n",
    "print(\"Entrée :\", counts.get(\"Entrée\", 0))\n",
    "print(\"Plat principal :\", counts.get(\"Plat principal\", 0))\n",
    "print(\"Dessert :\", counts.get(\"Dessert\", 0))\n",
    "\n",
    "df = pd.read_csv(\"./data/test.csv\")\n",
    "counts = df[\"type\"].value_counts()\n",
    "print(\"----test\")\n",
    "print(\"Entrée :\", counts.get(\"Entrée\", 0))\n",
    "print(\"Plat principal :\", counts.get(\"Plat principal\", 0))\n",
    "print(\"Dessert :\", counts.get(\"Dessert\", 0))\n",
    "\n",
    "df = pd.read_csv(\"./data/validation.csv\")\n",
    "counts = df[\"type\"].value_counts()\n",
    "print(\"----validation\")\n",
    "print(\"Entrée :\", counts.get(\"Entrée\", 0))\n",
    "print(\"Plat principal :\", counts.get(\"Plat principal\", 0))\n",
    "print(\"Dessert :\", counts.get(\"Dessert\", 0))\n",
    "\n",
    "df = pd.read_csv(\"./data/train_all.csv\")\n",
    "counts = df[\"type\"].value_counts()\n",
    "print(\"----all\")\n",
    "print(\"Entrée :\", counts.get(\"Entrée\", 0))\n",
    "print(\"Plat principal :\", counts.get(\"Plat principal\", 0))\n",
    "print(\"Dessert :\", counts.get(\"Dessert\", 0))"
   ]
  }
 ],
 "metadata": {
  "kernelspec": {
   "display_name": "base",
   "language": "python",
   "name": "python3"
  },
  "language_info": {
   "name": "python",
   "version": "3.10.9"
  }
 },
 "nbformat": 4,
 "nbformat_minor": 2
}
