{
 "cells": [
  {
   "cell_type": "markdown",
   "metadata": {},
   "source": [
    "# Run 4 : MLP"
   ]
  },
  {
   "cell_type": "code",
   "execution_count": 235,
   "metadata": {},
   "outputs": [],
   "source": [
    "import pandas as pd\n",
    "import matplotlib.pyplot as plt\n",
    "from sklearn.feature_extraction.text import TfidfVectorizer\n",
    "from sklearn.preprocessing import LabelEncoder\n",
    "from sklearn.metrics import accuracy_score, classification_report, confusion_matrix\n",
    "\n",
    "# PyTorch\n",
    "import torch\n",
    "import torch.nn as nn\n",
    "from torch.utils.data import DataLoader, TensorDataset"
   ]
  },
  {
   "cell_type": "markdown",
   "metadata": {},
   "source": [
    "### Chargement des données d'apprentissage et de test"
   ]
  },
  {
   "cell_type": "code",
   "execution_count": 346,
   "metadata": {},
   "outputs": [],
   "source": [
    "df_train = pd.read_csv(\"../data/train.csv\", sep=',', encoding='utf-8')\n",
    "df_validation = pd.read_csv(\"../data/validation.csv\", sep=',', encoding='utf-8')\n",
    "df_test = pd.read_csv(\"../data/test.csv\", sep=',', encoding='utf-8')"
   ]
  },
  {
   "cell_type": "markdown",
   "metadata": {},
   "source": [
    "### Vectorisation des données avec  TF-IDF et encodage des labels"
   ]
  },
  {
   "cell_type": "code",
   "execution_count": 348,
   "metadata": {},
   "outputs": [],
   "source": [
    "df_train['vecteur'] = df_train['titre'] + \" \" + df_train['recette']\n",
    "df_validation['vecteur'] = df_validation['titre'] + \" \" + df_validation['recette']\n",
    "df_test['vecteur'] = df_test['titre'] + \" \" + df_test['recette']\n",
    "\n",
    "vectorizer = TfidfVectorizer(max_features=20000)\n",
    "x_train = vectorizer.fit_transform(df_train['vecteur'])\n",
    "x_validation = vectorizer.transform(df_validation['vecteur'])\n",
    "x_test = vectorizer.transform(df_test['vecteur'])\n",
    "\n",
    "label_encoder = LabelEncoder()\n",
    "y_train = label_encoder.fit_transform(df_train[\"type\"])\n",
    "y_validation = label_encoder.transform(df_validation[\"type\"])\n",
    "y_test = label_encoder.transform(df_test[\"type\"])"
   ]
  },
  {
   "cell_type": "markdown",
   "metadata": {},
   "source": [
    "### Conversion des données en tensors PyTorch"
   ]
  },
  {
   "cell_type": "code",
   "execution_count": 349,
   "metadata": {},
   "outputs": [],
   "source": [
    "x_train = x_train.toarray()\n",
    "x_validation = x_validation.toarray()\n",
    "x_test = x_test.toarray()\n",
    "\n",
    "x_train = torch.tensor(x_train, dtype=torch.float32)\n",
    "y_train = torch.tensor(y_train, dtype=torch.long)\n",
    "x_validation = torch.tensor(x_validation, dtype=torch.float32)\n",
    "y_validation = torch.tensor(y_validation, dtype=torch.long)\n",
    "x_test = torch.tensor(x_test, dtype=torch.float32)\n",
    "y_test = torch.tensor(y_test, dtype=torch.long)"
   ]
  },
  {
   "cell_type": "code",
   "execution_count": 350,
   "metadata": {},
   "outputs": [],
   "source": [
    "train_dataset = TensorDataset(x_train, y_train)\n",
    "train_loader = DataLoader(train_dataset, batch_size=100, shuffle=True)\n",
    "\n",
    "validation_dataset = TensorDataset(x_validation, y_validation)\n",
    "validation_loader = DataLoader(validation_dataset, batch_size=100, shuffle=False)"
   ]
  },
  {
   "cell_type": "markdown",
   "metadata": {},
   "source": [
    "### Affichage des tailles des tensors pour adapter la taille du modèles"
   ]
  },
  {
   "cell_type": "code",
   "execution_count": 351,
   "metadata": {},
   "outputs": [
    {
     "name": "stdout",
     "output_type": "stream",
     "text": [
      "torch.Size([9978, 18306]) torch.Size([9978])\n",
      "torch.Size([2495, 18306]) torch.Size([2495])\n",
      "torch.Size([1388, 18306]) torch.Size([1388])\n"
     ]
    }
   ],
   "source": [
    "print(x_train.shape, y_train.shape)\n",
    "print(x_validation.shape, y_validation.shape)\n",
    "print(x_test.shape, y_test.shape)"
   ]
  },
  {
   "cell_type": "markdown",
   "metadata": {},
   "source": [
    "### Modèle"
   ]
  },
  {
   "cell_type": "code",
   "execution_count": 352,
   "metadata": {},
   "outputs": [],
   "source": [
    "device = torch.device('cpu')\n",
    "\n",
    "class NeuralNetwork(nn.Module):\n",
    "    def __init__(self):\n",
    "        super().__init__()\n",
    "        self.c1 = nn.Linear(18306, 256) # 512 neurones \n",
    "        self.c2 = nn.Linear(256, 256) \n",
    "        self.c3 = nn.Linear(256, 3) \n",
    "        self.activation = nn.ReLU()\n",
    "        #self.dropout = nn.Dropout(0.3)\n",
    "\n",
    "    def forward(self, x):\n",
    "        x = self.activation(self.c1(x))\n",
    "        x = self.activation(self.c2(x))\n",
    "        x = self.c3(x)\n",
    "        return x\n",
    "\n",
    "model = NeuralNetwork().to(device)\n",
    "criterion = nn.CrossEntropyLoss()\n",
    "optimizer = torch.optim.Adam(model.parameters(), lr=0.01)\n",
    "\n",
    "def train(dataloader, model, criterion, optimizer):\n",
    "    model.train()\n",
    "    train_loss = 0.0\n",
    "    for batch, (x, y) in enumerate(dataloader):\n",
    "        pred = model(x.to(device))\n",
    "        loss = criterion(pred, y.to(device))\n",
    "\n",
    "        loss.backward()\n",
    "        optimizer.step()\n",
    "        optimizer.zero_grad()\n",
    "\n",
    "        if batch % 100 == 0:\n",
    "            train_loss += loss.item()\n",
    "    return train_loss/100\n",
    "\n",
    "def test(dataloader, model, criterion):\n",
    "    model.eval()\n",
    "    test_loss, correct = 0, 0\n",
    "    with torch.no_grad():\n",
    "        for x, y in dataloader:\n",
    "            pred = model(x.to(device))\n",
    "            test_loss += criterion(pred, y.to(device)).item()\n",
    "            correct += (pred.argmax(1) == y.to(device)).type(torch.float).sum().item()\n",
    "    test_loss /= len(dataloader)\n",
    "    correct /= len(dataloader.dataset)\n",
    "    print(f\"Accuracy: {(100 * correct):>0.1f}%, Avg loss: {test_loss:>8f} \\n\")\n",
    "    return test_loss"
   ]
  },
  {
   "cell_type": "markdown",
   "metadata": {},
   "source": [
    "### Entraînement"
   ]
  },
  {
   "cell_type": "code",
   "execution_count": 353,
   "metadata": {},
   "outputs": [
    {
     "name": "stdout",
     "output_type": "stream",
     "text": [
      "Epoch 1\n",
      "Accuracy: 86.2%, Avg loss: 0.318576 \n",
      "\n",
      "Epoch 2\n",
      "Accuracy: 86.5%, Avg loss: 0.380815 \n",
      "\n",
      "Epoch 3\n",
      "Accuracy: 85.3%, Avg loss: 0.571540 \n",
      "\n",
      "Epoch 4\n",
      "Accuracy: 85.8%, Avg loss: 0.748219 \n",
      "\n",
      "Epoch 5\n",
      "Accuracy: 85.2%, Avg loss: 0.962899 \n",
      "\n"
     ]
    }
   ],
   "source": [
    "loss_train = []\n",
    "loss_validation = []\n",
    "for epochs in range(5):\n",
    "    current_loss = 0.0\n",
    "    print(f\"Epoch {epochs + 1}\")\n",
    "    loss_train.append(train(train_loader, model, criterion, optimizer))\n",
    "    loss_validation.append(test(validation_loader, model, criterion))"
   ]
  },
  {
   "cell_type": "markdown",
   "metadata": {},
   "source": [
    "#### Graphique des pertes"
   ]
  },
  {
   "cell_type": "code",
   "execution_count": 354,
   "metadata": {},
   "outputs": [
    {
     "data": {
      "image/png": "[encoded data removed]",
      "text/plain": [
       "<Figure size 640x480 with 1 Axes>"
      ]
     },
     "metadata": {},
     "output_type": "display_data"
    }
   ],
   "source": [
    "x = pd.Series(range(5))\n",
    "plt.figure()\n",
    "plt.plot(x, loss_train, color='orange')\n",
    "plt.plot(x, loss_validation, color='blue')\n",
    "plt.legend(['train', 'validation'])\n",
    "plt.yscale('log')\n",
    "plt.title(\"MLP PyTorch Loss\")\n",
    "plt.show()"
   ]
  },
  {
   "cell_type": "markdown",
   "metadata": {},
   "source": [
    "### Prédiction"
   ]
  },
  {
   "cell_type": "code",
   "execution_count": 355,
   "metadata": {},
   "outputs": [],
   "source": [
    "with torch.no_grad():\n",
    "    y_pred = model(x_test.to(device))\n",
    "\n",
    "y_pred_classes = torch.argmax(y_pred, dim=1)"
   ]
  },
  {
   "cell_type": "markdown",
   "metadata": {},
   "source": [
    "### Résultats"
   ]
  },
  {
   "cell_type": "code",
   "execution_count": 356,
   "metadata": {},
   "outputs": [
    {
     "name": "stdout",
     "output_type": "stream",
     "text": [
      "Accuracy: 0.8544668587896254 \n",
      "\n",
      "              precision    recall  f1-score   support\n",
      "\n",
      "           0       0.98      0.99      0.98       407\n",
      "           1       0.70      0.72      0.71       337\n",
      "           2       0.86      0.84      0.85       644\n",
      "\n",
      "    accuracy                           0.85      1388\n",
      "   macro avg       0.85      0.85      0.85      1388\n",
      "weighted avg       0.86      0.85      0.85      1388\n",
      " \n",
      "\n",
      "[[401   6   0]\n",
      " [  5 243  89]\n",
      " [  5  97 542]]\n"
     ]
    }
   ],
   "source": [
    "score = accuracy_score(y_test, y_pred_classes)\n",
    "print(\"Accuracy:\", score, \"\\n\")\n",
    "print(classification_report(y_test, y_pred_classes), \"\\n\")\n",
    "print(confusion_matrix(y_test, y_pred_classes))"
   ]
  }
 ],
 "metadata": {
  "kernelspec": {
   "display_name": "base",
   "language": "python",
   "name": "python3"
  },
  "language_info": {
   "codemirror_mode": {
    "name": "ipython",
    "version": 3
   },
   "file_extension": ".py",
   "mimetype": "text/x-python",
   "name": "python",
   "nbconvert_exporter": "python",
   "pygments_lexer": "ipython3",
   "version": "3.10.9"
  }
 },
 "nbformat": 4,
 "nbformat_minor": 2
}
