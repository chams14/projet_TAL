{
 "cells": [
  {
   "cell_type": "markdown",
   "metadata": {},
   "source": [
    "# Run 2 : TF-IDF"
   ]
  },
  {
   "cell_type": "code",
   "execution_count": 33,
   "metadata": {},
   "outputs": [],
   "source": [
    "import pandas as pd\n",
    "from sklearn.feature_extraction.text import TfidfVectorizer\n",
    "from sklearn.svm import SVC\n",
    "from sklearn.metrics import accuracy_score, classification_report, confusion_matrix"
   ]
  },
  {
   "cell_type": "markdown",
   "metadata": {},
   "source": [
    "### Chargement des données d'apprentissage et de test"
   ]
  },
  {
   "cell_type": "code",
   "execution_count": 34,
   "metadata": {},
   "outputs": [],
   "source": [
    "df_train = pd.read_csv(\"../data/train.csv\", sep=',', encoding='utf-8')\n",
    "df_validation = pd.read_csv(\"../data/validation.csv\", sep=',', encoding='utf-8')\n",
    "df_test = pd.read_csv(\"../data/test.csv\", sep=',', encoding='utf-8')"
   ]
  },
  {
   "cell_type": "markdown",
   "metadata": {},
   "source": [
    "### Vectorisation des données"
   ]
  },
  {
   "cell_type": "code",
   "execution_count": 43,
   "metadata": {},
   "outputs": [],
   "source": [
    "df_train['vecteur'] = df_train['titre'] + \" \" + df_train['ingredients'] + \" \" + df_train['recette']\n",
    "df_validation['vecteur'] = df_validation['titre'] + \" \" + df_validation['ingredients'] + \" \" + df_validation['recette']\n",
    "df_test['vecteur'] = df_test['titre'] + \" \" + df_test['ingredients'] + \" \" + df_test['recette']\n",
    "\n",
    "vectorizer = TfidfVectorizer()\n",
    "x_train = vectorizer.fit_transform(df_train['vecteur'])\n",
    "x_validation = vectorizer.transform(df_validation['vecteur'])\n",
    "x_test = vectorizer.transform(df_test['vecteur']) \n",
    "\n",
    "y_train = df_train[\"type\"]\n",
    "y_validation = df_validation[\"type\"]\n",
    "y_test = df_test[\"type\"]"
   ]
  },
  {
   "cell_type": "markdown",
   "metadata": {},
   "source": [
    "### Apprentissage du SVC"
   ]
  },
  {
   "cell_type": "code",
   "execution_count": 36,
   "metadata": {},
   "outputs": [],
   "source": [
    "model = SVC(kernel=\"linear\")\n",
    "model.fit(x_train, y_train)\n",
    "y_pred = model.predict(x_test)"
   ]
  },
  {
   "cell_type": "markdown",
   "metadata": {},
   "source": [
    "### Résultats"
   ]
  },
  {
   "cell_type": "code",
   "execution_count": 44,
   "metadata": {},
   "outputs": [
    {
     "name": "stdout",
     "output_type": "stream",
     "text": [
      "Accuracy: 0.8782420749279539 \n",
      "\n",
      "                precision    recall  f1-score   support\n",
      "\n",
      "       Dessert       0.98      1.00      0.99       407\n",
      "        Entrée       0.78      0.70      0.74       337\n",
      "Plat principal       0.86      0.90      0.88       644\n",
      "\n",
      "      accuracy                           0.88      1388\n",
      "     macro avg       0.87      0.86      0.87      1388\n",
      "  weighted avg       0.88      0.88      0.88      1388\n",
      "\n",
      "[[405   1   1]\n",
      " [  4 237  96]\n",
      " [  3  64 577]]\n"
     ]
    }
   ],
   "source": [
    "score = accuracy_score(y_pred,y_test)\n",
    "print(\"Accuracy:\", score, \"\\n\")\n",
    "\n",
    "print(classification_report(y_test, y_pred))\n",
    "print(confusion_matrix(y_test, y_pred))"
   ]
  }
 ],
 "metadata": {
  "kernelspec": {
   "display_name": "base",
   "language": "python",
   "name": "python3"
  },
  "language_info": {
   "codemirror_mode": {
    "name": "ipython",
    "version": 3
   },
   "file_extension": ".py",
   "mimetype": "text/x-python",
   "name": "python",
   "nbconvert_exporter": "python",
   "pygments_lexer": "ipython3",
   "version": "3.10.9"
  }
 },
 "nbformat": 4,
 "nbformat_minor": 2
}
